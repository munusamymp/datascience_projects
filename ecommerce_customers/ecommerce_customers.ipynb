{
  "nbformat": 4,
  "nbformat_minor": 0,
  "metadata": {
    "colab": {
      "name": "ecommerce.ipynb",
      "provenance": [],
      "collapsed_sections": []
    },
    "kernelspec": {
      "name": "python3",
      "display_name": "Python 3"
    },
    "language_info": {
      "name": "python"
    }
  },
  "cells": [
    {
      "cell_type": "code",
      "metadata": {
        "id": "fVvxFUHp4W2i"
      },
      "source": [
        "import pandas as pd\n",
        "import numpy as np"
      ],
      "execution_count": 2,
      "outputs": []
    },
    {
      "cell_type": "code",
      "metadata": {
        "colab": {
          "base_uri": "https://localhost:8080/",
          "height": 255
        },
        "id": "bviVK4V8HQbL",
        "outputId": "c4d77b5d-fcdc-4a58-e362-a85e1d4c3a4e"
      },
      "source": [
        "filepath = '/content/drive/MyDrive/1CodingDojo/Week7_2/Ecommerce Customers.csv'\n",
        "df = pd.read_csv(filepath)\n",
        "df.head()"
      ],
      "execution_count": 3,
      "outputs": [
        {
          "output_type": "execute_result",
          "data": {
            "text/html": [
              "<div>\n",
              "<style scoped>\n",
              "    .dataframe tbody tr th:only-of-type {\n",
              "        vertical-align: middle;\n",
              "    }\n",
              "\n",
              "    .dataframe tbody tr th {\n",
              "        vertical-align: top;\n",
              "    }\n",
              "\n",
              "    .dataframe thead th {\n",
              "        text-align: right;\n",
              "    }\n",
              "</style>\n",
              "<table border=\"1\" class=\"dataframe\">\n",
              "  <thead>\n",
              "    <tr style=\"text-align: right;\">\n",
              "      <th></th>\n",
              "      <th>Email</th>\n",
              "      <th>Address</th>\n",
              "      <th>Avatar</th>\n",
              "      <th>Avg. Session Length</th>\n",
              "      <th>Time on App</th>\n",
              "      <th>Time on Website</th>\n",
              "      <th>Length of Membership</th>\n",
              "      <th>Yearly Amount Spent</th>\n",
              "    </tr>\n",
              "  </thead>\n",
              "  <tbody>\n",
              "    <tr>\n",
              "      <th>0</th>\n",
              "      <td>mstephenson@fernandez.com</td>\n",
              "      <td>835 Frank Tunnel\\nWrightmouth, MI 82180-9605</td>\n",
              "      <td>Violet</td>\n",
              "      <td>34.497268</td>\n",
              "      <td>12.655651</td>\n",
              "      <td>39.577668</td>\n",
              "      <td>4.082621</td>\n",
              "      <td>587.951054</td>\n",
              "    </tr>\n",
              "    <tr>\n",
              "      <th>1</th>\n",
              "      <td>hduke@hotmail.com</td>\n",
              "      <td>4547 Archer Common\\nDiazchester, CA 06566-8576</td>\n",
              "      <td>DarkGreen</td>\n",
              "      <td>31.926272</td>\n",
              "      <td>11.109461</td>\n",
              "      <td>37.268959</td>\n",
              "      <td>2.664034</td>\n",
              "      <td>392.204933</td>\n",
              "    </tr>\n",
              "    <tr>\n",
              "      <th>2</th>\n",
              "      <td>pallen@yahoo.com</td>\n",
              "      <td>24645 Valerie Unions Suite 582\\nCobbborough, D...</td>\n",
              "      <td>Bisque</td>\n",
              "      <td>33.000915</td>\n",
              "      <td>11.330278</td>\n",
              "      <td>37.110597</td>\n",
              "      <td>4.104543</td>\n",
              "      <td>487.547505</td>\n",
              "    </tr>\n",
              "    <tr>\n",
              "      <th>3</th>\n",
              "      <td>riverarebecca@gmail.com</td>\n",
              "      <td>1414 David Throughway\\nPort Jason, OH 22070-1220</td>\n",
              "      <td>SaddleBrown</td>\n",
              "      <td>34.305557</td>\n",
              "      <td>13.717514</td>\n",
              "      <td>36.721283</td>\n",
              "      <td>3.120179</td>\n",
              "      <td>581.852344</td>\n",
              "    </tr>\n",
              "    <tr>\n",
              "      <th>4</th>\n",
              "      <td>mstephens@davidson-herman.com</td>\n",
              "      <td>14023 Rodriguez Passage\\nPort Jacobville, PR 3...</td>\n",
              "      <td>MediumAquaMarine</td>\n",
              "      <td>33.330673</td>\n",
              "      <td>12.795189</td>\n",
              "      <td>37.536653</td>\n",
              "      <td>4.446308</td>\n",
              "      <td>599.406092</td>\n",
              "    </tr>\n",
              "  </tbody>\n",
              "</table>\n",
              "</div>"
            ],
            "text/plain": [
              "                           Email  ... Yearly Amount Spent\n",
              "0      mstephenson@fernandez.com  ...          587.951054\n",
              "1              hduke@hotmail.com  ...          392.204933\n",
              "2               pallen@yahoo.com  ...          487.547505\n",
              "3        riverarebecca@gmail.com  ...          581.852344\n",
              "4  mstephens@davidson-herman.com  ...          599.406092\n",
              "\n",
              "[5 rows x 8 columns]"
            ]
          },
          "metadata": {},
          "execution_count": 3
        }
      ]
    },
    {
      "cell_type": "code",
      "metadata": {
        "colab": {
          "base_uri": "https://localhost:8080/"
        },
        "id": "yA1vdixEIW5_",
        "outputId": "68d328e9-03d1-4125-ade5-4c6cb9289a6e"
      },
      "source": [
        "df.info()"
      ],
      "execution_count": 4,
      "outputs": [
        {
          "output_type": "stream",
          "name": "stdout",
          "text": [
            "<class 'pandas.core.frame.DataFrame'>\n",
            "RangeIndex: 500 entries, 0 to 499\n",
            "Data columns (total 8 columns):\n",
            " #   Column                Non-Null Count  Dtype  \n",
            "---  ------                --------------  -----  \n",
            " 0   Email                 500 non-null    object \n",
            " 1   Address               500 non-null    object \n",
            " 2   Avatar                500 non-null    object \n",
            " 3   Avg. Session Length   500 non-null    float64\n",
            " 4   Time on App           500 non-null    float64\n",
            " 5   Time on Website       500 non-null    float64\n",
            " 6   Length of Membership  500 non-null    float64\n",
            " 7   Yearly Amount Spent   500 non-null    float64\n",
            "dtypes: float64(5), object(3)\n",
            "memory usage: 31.4+ KB\n"
          ]
        }
      ]
    },
    {
      "cell_type": "code",
      "metadata": {
        "colab": {
          "base_uri": "https://localhost:8080/"
        },
        "id": "4Aof0jEdJRmW",
        "outputId": "0dfcda6c-38dc-4ee6-9c34-00f2474b713c"
      },
      "source": [
        "df.isnull().sum()"
      ],
      "execution_count": 6,
      "outputs": [
        {
          "output_type": "execute_result",
          "data": {
            "text/plain": [
              "Email                   0\n",
              "Address                 0\n",
              "Avatar                  0\n",
              "Avg. Session Length     0\n",
              "Time on App             0\n",
              "Time on Website         0\n",
              "Length of Membership    0\n",
              "Yearly Amount Spent     0\n",
              "dtype: int64"
            ]
          },
          "metadata": {},
          "execution_count": 6
        }
      ]
    },
    {
      "cell_type": "code",
      "metadata": {
        "colab": {
          "base_uri": "https://localhost:8080/"
        },
        "id": "mS3ZSI3iJV6K",
        "outputId": "5dba40b0-91d7-430d-c7d1-6dc2fec97cea"
      },
      "source": [
        "df.duplicated().sum()"
      ],
      "execution_count": 11,
      "outputs": [
        {
          "output_type": "execute_result",
          "data": {
            "text/plain": [
              "0"
            ]
          },
          "metadata": {},
          "execution_count": 11
        }
      ]
    },
    {
      "cell_type": "markdown",
      "metadata": {
        "id": "VILOKbkFIaUN"
      },
      "source": [
        "1) Source of data\n",
        "\n",
        "https://www.kaggle.com/teberle/e-commerce-linear-regression/data\n",
        "\n",
        "2) Brief description of data\n",
        "\n",
        " An ecommerce company sells its products in stores, on its website and in an app. To predict the decision whether to focus on the app or the website to increase their annual revenues.\n",
        "\n",
        "3) What is the target?\n",
        "\n",
        "Yearly Amount Spent\n",
        "\n",
        "4) Is this a classification or regression problem?\n",
        "\n",
        "Regression problem\n",
        "\n",
        "5) How many features?\n",
        "\n",
        "5 features (Avg. Sesssion Length, Time on App, Time on Website, Length of Membership, Yearly Amout Spent)\n",
        "\n",
        "\n",
        "6) How many rows of data.\n",
        "\n",
        "500 Rows\n",
        "\n",
        "7) What, if any, challenges do your foresee in cleaning, exploring, or modeling with this dataset?\n",
        "\n",
        "No"
      ]
    }
  ]
}